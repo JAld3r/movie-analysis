{
 "cells": [
  {
   "cell_type": "code",
   "execution_count": 1,
   "metadata": {},
   "outputs": [],
   "source": [
    "import pandas as pd \n",
    "import pathlib as path"
   ]
  },
  {
   "cell_type": "code",
   "execution_count": 3,
   "metadata": {},
   "outputs": [
    {
     "name": "stdout",
     "output_type": "stream",
     "text": [
      "CSV files combined and saved as combined_top10.csv successfully.\n"
     ]
    }
   ],
   "source": [
    "file1 =\"movie1.csv\"\n",
    "file2 =\"movie2.csv\"\n",
    "file3 =\"movie3.csv\"\n",
    "file4 =\"movie4.csv\"\n",
    "file5 =\"movie5.csv\"\n",
    "file6 =\"movie6.csv\"\n",
    "file7 =\"movie7.csv\"\n",
    "file8 =\"movie8.csv\"\n",
    "file9 =\"movie9.csv\"\n",
    "file10 =\"movie10.csv\"\n",
    "\n",
    "def combine_csv(input_files, output_file):\n",
    "    try:\n",
    "        # Create an empty list to store DataFrames\n",
    "        dfs = []\n",
    "\n",
    "        # Read each CSV file into a DataFrame and add it to the list\n",
    "        for file in input_files:\n",
    "            df = pd.read_csv(file)\n",
    "            dfs.append(df)\n",
    "\n",
    "        # Concatenate the DataFrames into a single DataFrame\n",
    "        combined_df = pd.concat(dfs, ignore_index=True)\n",
    "\n",
    "        # Write the combined DataFrame to a new CSV file\n",
    "        combined_df.to_csv(output_file, index=False)\n",
    "\n",
    "        print(f\"CSV files combined and saved as {output_file} successfully.\")\n",
    "    except Exception as e:\n",
    "        print(f\"Error combining CSV files: {e}\")\n",
    "\n",
    "if __name__ == \"__main__\":\n",
    "    # List of input CSV files to combine (replace these with your file paths)\n",
    "    input_files = [\"movie1.csv\", \"movie2.csv\", \"movie3.csv\", \"movie4.csv\", \"movie5.csv\",\n",
    "                   \"movie6.csv\", \"movie7.csv\", \"movie8.csv\", \"movie9.csv\", \"movie10.csv\"]\n",
    "\n",
    "    # Output filename for the combined CSV\n",
    "    output_file = \"combined_top10.csv\"\n",
    "\n",
    "    # Call the function to combine the CSV files\n",
    "    combine_csv(input_files, output_file)\n"
   ]
  }
 ],
 "metadata": {
  "kernelspec": {
   "display_name": "base",
   "language": "python",
   "name": "python3"
  },
  "language_info": {
   "codemirror_mode": {
    "name": "ipython",
    "version": 3
   },
   "file_extension": ".py",
   "mimetype": "text/x-python",
   "name": "python",
   "nbconvert_exporter": "python",
   "pygments_lexer": "ipython3",
   "version": "3.10.9"
  },
  "orig_nbformat": 4
 },
 "nbformat": 4,
 "nbformat_minor": 2
}
