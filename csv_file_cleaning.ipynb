{
 "cells": [
  {
   "cell_type": "code",
   "execution_count": 1,
   "metadata": {},
   "outputs": [
    {
     "name": "stdout",
     "output_type": "stream",
     "text": [
      "Data converted and saved successfully to box_office_all_time.csv\n"
     ]
    }
   ],
   "source": [
    "import requests\n",
    "import json\n",
    "import csv\n",
    "\n",
    "def json_to_csv(json_data, csv_filename):\n",
    "    if not json_data:\n",
    "        print(\"No JSON data to convert.\")\n",
    "        return\n",
    "\n",
    "    try:\n",
    "        with open(csv_filename, 'w', newline='', encoding='utf-8') as csvfile:\n",
    "            writer = csv.writer(csvfile)\n",
    "            \n",
    "            # Assuming the 'items' key in the JSON contains the list of records.\n",
    "            records = json_data.get('items', [])\n",
    "            \n",
    "            # Write header row with keys as column names.\n",
    "            if records:\n",
    "                header = records[0].keys()\n",
    "                writer.writerow(header)\n",
    "\n",
    "                for row in records:\n",
    "                    writer.writerow(row.values())\n",
    "            else:\n",
    "                print(\"No records found in JSON data.\")\n",
    "        \n",
    "        print(f\"Data converted and saved successfully to {csv_filename}\")\n",
    "    except Exception as e:\n",
    "        print(f\"Error converting and saving data to CSV: {e}\")\n",
    "\n",
    "if __name__ == \"__main__\":\n",
    "    url = 'https://imdb-api.com/en/API/BoxOfficeAllTime/k_ubtu0kka'\n",
    "    response = requests.get(url)\n",
    "    data = json.loads(response.content)\n",
    "\n",
    "    # Remove all null values from the data\n",
    "    data = {key: value for key, value in data.items() if value is not None}\n",
    "\n",
    "    # Convert JSON data to CSV\n",
    "    csv_filename = \"box_office_all_time.csv\"\n",
    "    json_to_csv(data, csv_filename)"
   ]
  },
  {
   "cell_type": "code",
   "execution_count": 2,
   "metadata": {},
   "outputs": [
    {
     "name": "stdout",
     "output_type": "stream",
     "text": [
      "Data converted and saved successfully to box_office.csv\n"
     ]
    }
   ],
   "source": [
    "import requests\n",
    "import json\n",
    "import csv\n",
    "\n",
    "def json_to_csv(json_data, csv_filename):\n",
    "    if not json_data:\n",
    "        print(\"No JSON data to convert.\")\n",
    "        return\n",
    "\n",
    "    try:\n",
    "        with open(csv_filename, 'w', newline='', encoding='utf-8') as csvfile:\n",
    "            writer = csv.writer(csvfile)\n",
    "            \n",
    "            # Assuming the 'items' key in the JSON contains the list of records.\n",
    "            records = json_data.get('items', [])\n",
    "            \n",
    "            # Write header row with keys as column names.\n",
    "            if records:\n",
    "                header = records[0].keys()\n",
    "                writer.writerow(header)\n",
    "\n",
    "                for row in records:\n",
    "                    writer.writerow(row.values())\n",
    "            else:\n",
    "                print(\"No records found in JSON data.\")\n",
    "        \n",
    "        print(f\"Data converted and saved successfully to {csv_filename}\")\n",
    "    except Exception as e:\n",
    "        print(f\"Error converting and saving data to CSV: {e}\")\n",
    "\n",
    "if __name__ == \"__main__\":\n",
    "    url = 'https://imdb-api.com/en/API/BoxOfficeAllTime/k_ubtu0kka'\n",
    "    response = requests.get(url)\n",
    "    data = json.loads(response.content)\n",
    "\n",
    "    # Remove all null values from the data\n",
    "    data = {key: value for key, value in data.items() if value is not None}\n",
    "\n",
    "    # Convert JSON data to CSV\n",
    "    csv_filename = \"box_office.csv\"\n",
    "    json_to_csv(data, csv_filename)"
   ]
  }
 ],
 "metadata": {
  "kernelspec": {
   "display_name": "base",
   "language": "python",
   "name": "python3"
  },
  "language_info": {
   "codemirror_mode": {
    "name": "ipython",
    "version": 3
   },
   "file_extension": ".py",
   "mimetype": "text/x-python",
   "name": "python",
   "nbconvert_exporter": "python",
   "pygments_lexer": "ipython3",
   "version": "3.10.9"
  },
  "orig_nbformat": 4
 },
 "nbformat": 4,
 "nbformat_minor": 2
}
